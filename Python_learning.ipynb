{
  "nbformat": 4,
  "nbformat_minor": 0,
  "metadata": {
    "colab": {
      "provenance": [],
      "authorship_tag": "ABX9TyN5Ai6WfJQwVEe0QKAbwPxj",
      "include_colab_link": true
    },
    "kernelspec": {
      "name": "python3",
      "display_name": "Python 3"
    },
    "language_info": {
      "name": "python"
    }
  },
  "cells": [
    {
      "cell_type": "markdown",
      "metadata": {
        "id": "view-in-github",
        "colab_type": "text"
      },
      "source": [
        "<a href=\"https://colab.research.google.com/github/SajiNithin/Mastering_Python/blob/main/Python_learning.ipynb\" target=\"_parent\"><img src=\"https://colab.research.google.com/assets/colab-badge.svg\" alt=\"Open In Colab\"/></a>"
      ]
    },
    {
      "cell_type": "code",
      "execution_count": 12,
      "metadata": {
        "colab": {
          "base_uri": "https://localhost:8080/"
        },
        "id": "cLGuFPoxr5Qn",
        "outputId": "a0c2e303-e63d-4b7c-c9e0-15e94755f27b"
      },
      "outputs": [
        {
          "output_type": "stream",
          "name": "stdout",
          "text": [
            "['ad', 'ae', 'af', 'bd', 'be', 'bf', 'cd', 'ce', 'cf']\n"
          ]
        }
      ],
      "source": [
        "def lettercombo():\n",
        "  x=[]\n",
        "  two=['a','b','c']\n",
        "  three=['d','e','f']\n",
        "  for letter in two:\n",
        "    for letters in three:\n",
        "      x.append(letter + letters)\n",
        "  return x\n",
        "\n",
        "\n",
        "print(lettercombo())"
      ]
    }
  ]
}