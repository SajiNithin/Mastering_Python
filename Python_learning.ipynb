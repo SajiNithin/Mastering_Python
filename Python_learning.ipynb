{
  "nbformat": 4,
  "nbformat_minor": 0,
  "metadata": {
    "colab": {
      "provenance": [],
      "authorship_tag": "ABX9TyMkHavbB1pUSXPktBttWJgk",
      "include_colab_link": true
    },
    "kernelspec": {
      "name": "python3",
      "display_name": "Python 3"
    },
    "language_info": {
      "name": "python"
    }
  },
  "cells": [
    {
      "cell_type": "markdown",
      "metadata": {
        "id": "view-in-github",
        "colab_type": "text"
      },
      "source": [
        "<a href=\"https://colab.research.google.com/github/SajiNithin/Mastering_Python/blob/main/Python_learning.ipynb\" target=\"_parent\"><img src=\"https://colab.research.google.com/assets/colab-badge.svg\" alt=\"Open In Colab\"/></a>"
      ]
    },
    {
      "cell_type": "code",
      "execution_count": null,
      "metadata": {
        "colab": {
          "base_uri": "https://localhost:8080/"
        },
        "id": "cLGuFPoxr5Qn",
        "outputId": "57e32126-9d38-48e0-d012-c8efa798711d"
      },
      "outputs": [
        {
          "output_type": "stream",
          "name": "stdout",
          "text": [
            "[['ad', 'ae', 'af'], ['bd', 'be', 'bf'], ['cd', 'ce', 'cf']]\n"
          ]
        }
      ],
      "source": [
        "# Mine\n",
        "def lettercombo():\n",
        "  y=[]\n",
        "  two=['a','b','c']\n",
        "  three=['d','e','f']\n",
        "  for letter in two:\n",
        "    x=[(letter + letters)for letters in three]\n",
        "    y.append(x)\n",
        "\n",
        "  return y\n",
        "\n",
        "\n",
        "print(lettercombo())"
      ]
    },
    {
      "cell_type": "code",
      "source": [
        "# Chatgpt's\n",
        "def lettercombo():\n",
        "    two = ['a', 'b', 'c']\n",
        "    three = ['d', 'e', 'f']\n",
        "    return [(letter1 + letter2) for letter1 in two for letter2 in three]\n",
        "\n",
        "print(lettercombo())\n"
      ],
      "metadata": {
        "colab": {
          "base_uri": "https://localhost:8080/"
        },
        "id": "zkq5K3ExA86e",
        "outputId": "984f7b81-9300-48dc-ac25-065c5fdcc379"
      },
      "execution_count": null,
      "outputs": [
        {
          "output_type": "stream",
          "name": "stdout",
          "text": [
            "['ad', 'ae', 'af', 'bd', 'be', 'bf', 'cd', 'ce', 'cf']\n"
          ]
        }
      ]
    },
    {
      "cell_type": "code",
      "source": [
        "try:\n",
        "  x='hello'-7\n",
        "except TypeError as error:\n",
        "    print(str(error))\n",
        "  # Learn to use try except in your code"
      ],
      "metadata": {
        "colab": {
          "base_uri": "https://localhost:8080/"
        },
        "id": "hy3QAf-93gP1",
        "outputId": "6a9823e8-e505-4d2a-bc2b-34f562c381a7"
      },
      "execution_count": 2,
      "outputs": [
        {
          "output_type": "stream",
          "name": "stdout",
          "text": [
            "unsupported operand type(s) for -: 'str' and 'int'\n"
          ]
        }
      ]
    },
    {
      "cell_type": "code",
      "source": [
        "while True:  # input validation loop\n",
        "    response = input('Enter whole positive number: ')\n",
        "    if response.isdigit():\n",
        "        num = int(response)\n",
        "        break  # leave loop\n",
        "    print('Please try that again')"
      ],
      "metadata": {
        "colab": {
          "base_uri": "https://localhost:8080/"
        },
        "id": "nkKmAz2N4yc6",
        "outputId": "af854060-41f9-47f8-fd75-27219ad616c8"
      },
      "execution_count": 3,
      "outputs": [
        {
          "name": "stdout",
          "output_type": "stream",
          "text": [
            "Enter whole positive number: hello\n",
            "Please try that again\n",
            "Enter whole positive number: '10'\n",
            "Please try that again\n",
            "Enter whole positive number: 7\n"
          ]
        }
      ]
    },
    {
      "cell_type": "code",
      "source": [
        "while True:\n",
        "    try:\n",
        "        num = int(input('Enter whole positive number: '))\n",
        "    except ValueError:\n",
        "        print('Please try that again')\n",
        "    else:\n",
        "        break\n",
        "        # Give a special attention to that else part"
      ],
      "metadata": {
        "colab": {
          "base_uri": "https://localhost:8080/"
        },
        "id": "FFzhRySM5GML",
        "outputId": "832cf4dd-374e-477c-d912-63a7e297e86d"
      },
      "execution_count": 5,
      "outputs": [
        {
          "name": "stdout",
          "output_type": "stream",
          "text": [
            "Enter whole positive number: 5\n"
          ]
        }
      ]
    },
    {
      "cell_type": "code",
      "source": [],
      "metadata": {
        "id": "I9Sww5V_5v58"
      },
      "execution_count": null,
      "outputs": []
    }
  ]
}