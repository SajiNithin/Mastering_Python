{
  "nbformat": 4,
  "nbformat_minor": 0,
  "metadata": {
    "colab": {
      "provenance": [],
      "authorship_tag": "ABX9TyOkgLOF4QBM/zYvKEjKeCIq",
      "include_colab_link": true
    },
    "kernelspec": {
      "name": "python3",
      "display_name": "Python 3"
    },
    "language_info": {
      "name": "python"
    }
  },
  "cells": [
    {
      "cell_type": "markdown",
      "metadata": {
        "id": "view-in-github",
        "colab_type": "text"
      },
      "source": [
        "<a href=\"https://colab.research.google.com/github/SajiNithin/Mastering_Python/blob/main/Python_learning.ipynb\" target=\"_parent\"><img src=\"https://colab.research.google.com/assets/colab-badge.svg\" alt=\"Open In Colab\"/></a>"
      ]
    },
    {
      "cell_type": "code",
      "execution_count": null,
      "metadata": {
        "colab": {
          "base_uri": "https://localhost:8080/"
        },
        "id": "cLGuFPoxr5Qn",
        "outputId": "57e32126-9d38-48e0-d012-c8efa798711d"
      },
      "outputs": [
        {
          "output_type": "stream",
          "name": "stdout",
          "text": [
            "[['ad', 'ae', 'af'], ['bd', 'be', 'bf'], ['cd', 'ce', 'cf']]\n"
          ]
        }
      ],
      "source": [
        "# Mine\n",
        "def lettercombo():\n",
        "  y=[]\n",
        "  two=['a','b','c']\n",
        "  three=['d','e','f']\n",
        "  for letter in two:\n",
        "    x=[(letter + letters)for letters in three]\n",
        "    y.append(x)\n",
        "\n",
        "  return y\n",
        "\n",
        "\n",
        "print(lettercombo())"
      ]
    },
    {
      "cell_type": "code",
      "source": [
        "# Chatgpt's\n",
        "def lettercombo():\n",
        "    two = ['a', 'b', 'c']\n",
        "    three = ['d', 'e', 'f']\n",
        "    return [(letter1 + letter2) for letter1 in two for letter2 in three]\n",
        "\n",
        "print(lettercombo())\n"
      ],
      "metadata": {
        "colab": {
          "base_uri": "https://localhost:8080/"
        },
        "id": "zkq5K3ExA86e",
        "outputId": "984f7b81-9300-48dc-ac25-065c5fdcc379"
      },
      "execution_count": null,
      "outputs": [
        {
          "output_type": "stream",
          "name": "stdout",
          "text": [
            "['ad', 'ae', 'af', 'bd', 'be', 'bf', 'cd', 'ce', 'cf']\n"
          ]
        }
      ]
    },
    {
      "cell_type": "code",
      "source": [
        "try:\n",
        "  x='hello'-7\n",
        "except TypeError as error:\n",
        "    print(str(error))\n",
        "  # Learn to use try except in your code"
      ],
      "metadata": {
        "colab": {
          "base_uri": "https://localhost:8080/"
        },
        "id": "hy3QAf-93gP1",
        "outputId": "6a9823e8-e505-4d2a-bc2b-34f562c381a7"
      },
      "execution_count": null,
      "outputs": [
        {
          "output_type": "stream",
          "name": "stdout",
          "text": [
            "unsupported operand type(s) for -: 'str' and 'int'\n"
          ]
        }
      ]
    },
    {
      "cell_type": "code",
      "source": [
        "while True:  # input validation loop\n",
        "    response = input('Enter whole positive number: ')\n",
        "    if response.isdigit():\n",
        "        num = int(response)\n",
        "        break  # leave loop\n",
        "    print('Please try that again')"
      ],
      "metadata": {
        "colab": {
          "base_uri": "https://localhost:8080/"
        },
        "id": "nkKmAz2N4yc6",
        "outputId": "af854060-41f9-47f8-fd75-27219ad616c8"
      },
      "execution_count": null,
      "outputs": [
        {
          "name": "stdout",
          "output_type": "stream",
          "text": [
            "Enter whole positive number: hello\n",
            "Please try that again\n",
            "Enter whole positive number: '10'\n",
            "Please try that again\n",
            "Enter whole positive number: 7\n"
          ]
        }
      ]
    },
    {
      "cell_type": "code",
      "source": [
        "while True:\n",
        "    try:\n",
        "        num = int(input('Enter whole positive number: '))\n",
        "    except ValueError:\n",
        "        print('Please try that again')\n",
        "    else:\n",
        "        break\n",
        "        # Give a special attention to that else part"
      ],
      "metadata": {
        "colab": {
          "base_uri": "https://localhost:8080/"
        },
        "id": "FFzhRySM5GML",
        "outputId": "832cf4dd-374e-477c-d912-63a7e297e86d"
      },
      "execution_count": null,
      "outputs": [
        {
          "name": "stdout",
          "output_type": "stream",
          "text": [
            "Enter whole positive number: 5\n"
          ]
        }
      ]
    },
    {
      "cell_type": "code",
      "source": [
        "def func(a):\n",
        "  return a*a\n",
        "\n",
        "x=func\n",
        "x(9)"
      ],
      "metadata": {
        "id": "I9Sww5V_5v58",
        "colab": {
          "base_uri": "https://localhost:8080/"
        },
        "outputId": "085440b6-67b6-4ad9-b5d5-98d1e5f73b42"
      },
      "execution_count": null,
      "outputs": [
        {
          "output_type": "execute_result",
          "data": {
            "text/plain": [
              "81"
            ]
          },
          "metadata": {},
          "execution_count": 6
        }
      ]
    },
    {
      "cell_type": "code",
      "source": [
        "# A higher-order function that wraps another function with additional behavior\n",
        "def my_decorator(func):\n",
        "    def wrapper():\n",
        "        print(\"Something is happening before the function is called.\")\n",
        "        func()\n",
        "        print(\"Something is happening after the function is called.\")\n",
        "    return wrapper\n",
        "\n",
        "# Define a function\n",
        "def say_hello():\n",
        "    print(\"Hello!\")\n",
        "\n",
        "# Use the decorator to enhance the function\n",
        "# say_hello = my_decorator(say_hello)\n",
        "say_hai= my_decorator(say_hello)\n",
        "\n",
        "# Call the decorated function\n",
        "# say_hello()\n",
        "say_hai()\n"
      ],
      "metadata": {
        "colab": {
          "base_uri": "https://localhost:8080/"
        },
        "id": "iZtO0iZA_uJw",
        "outputId": "68a4068c-18fb-46bc-c87f-26bbc22e9b65"
      },
      "execution_count": null,
      "outputs": [
        {
          "output_type": "stream",
          "name": "stdout",
          "text": [
            "Something is happening before the function is called.\n",
            "Hello!\n",
            "Something is happening after the function is called.\n"
          ]
        }
      ]
    },
    {
      "cell_type": "code",
      "source": [
        "joke={\"jokes\": [{\"id\": 27136, \"joke\": \"An Antartian named Babbette finds herself in dire trouble. Her business has gone bust and she's in serious financial trouble. She's so desperate that she decides to ask God for help. She begins to pray... \\\"God, please help me. I've lost my business and if I don't get some money, I'm going to lose my house as well. Please let me win the lotto.\\\"\\nLotto night comes and somebody else wins it. Babbette again prays...\\\"God, please let me win the lotto! I've lost my business, my house and I'm going to lose my car as well.\\\"\\nLotto night comes and Babbette still has no luck.\\nOnce again, she prays...\\\"My God, why have you forsaken me? I've lost my business, my house and my car. My children are starving. I don't often ask you for help and I have always been a good servant to you. PLEASE just let me win the lotto this one time so I can get my life back in order.\\\"\\nSuddenly there is a blinding flash of light as the heavens open a.\"}], \"available\": 4329}"
      ],
      "metadata": {
        "id": "q2FD8ZWn0YN0"
      },
      "execution_count": null,
      "outputs": []
    },
    {
      "cell_type": "code",
      "source": [
        "joke['jokes']\n"
      ],
      "metadata": {
        "colab": {
          "base_uri": "https://localhost:8080/"
        },
        "id": "qy6MYxxs0mem",
        "outputId": "0a044beb-7582-4204-ee8c-9b6ccf87c0a2"
      },
      "execution_count": null,
      "outputs": [
        {
          "output_type": "execute_result",
          "data": {
            "text/plain": [
              "[{'id': 27136,\n",
              "  'joke': 'An Antartian named Babbette finds herself in dire trouble. Her business has gone bust and she\\'s in serious financial trouble. She\\'s so desperate that she decides to ask God for help. She begins to pray... \"God, please help me. I\\'ve lost my business and if I don\\'t get some money, I\\'m going to lose my house as well. Please let me win the lotto.\"\\nLotto night comes and somebody else wins it. Babbette again prays...\"God, please let me win the lotto! I\\'ve lost my business, my house and I\\'m going to lose my car as well.\"\\nLotto night comes and Babbette still has no luck.\\nOnce again, she prays...\"My God, why have you forsaken me? I\\'ve lost my business, my house and my car. My children are starving. I don\\'t often ask you for help and I have always been a good servant to you. PLEASE just let me win the lotto this one time so I can get my life back in order.\"\\nSuddenly there is a blinding flash of light as the heavens open a.'}]"
            ]
          },
          "metadata": {},
          "execution_count": 2
        }
      ]
    },
    {
      "cell_type": "code",
      "source": [
        "for item in joke['jokes']:\n",
        "  if (item['joke']):\n",
        "    print(len(item['joke']))"
      ],
      "metadata": {
        "colab": {
          "base_uri": "https://localhost:8080/"
        },
        "id": "kAwv-N0S00tm",
        "outputId": "e60156c7-56fb-4ffd-b678-264e8fa151e7"
      },
      "execution_count": null,
      "outputs": [
        {
          "output_type": "stream",
          "name": "stdout",
          "text": [
            "926\n"
          ]
        }
      ]
    },
    {
      "cell_type": "code",
      "source": [
        "# Mine\n",
        "girls=['Rachel','Monica','Phoebe']\n",
        "boys=['Ross','Chandler','Joey']\n",
        "couples=[]\n",
        "for index in range(len(girls)):\n",
        "  for index_b in range(len(boys)):\n",
        "    if index==index_b:\n",
        "      couples.append(girls[index])\n",
        "      couples.append(boys[index_b])\n",
        "couples"
      ],
      "metadata": {
        "colab": {
          "base_uri": "https://localhost:8080/"
        },
        "id": "9EUTLtAA_jfc",
        "outputId": "c398e8f2-4c5d-434e-bdfd-65325f0a4a95"
      },
      "execution_count": null,
      "outputs": [
        {
          "output_type": "execute_result",
          "data": {
            "text/plain": [
              "['Rachel', 'Ross', 'Monica', 'Chandler', 'Phoebe', 'Joey']"
            ]
          },
          "metadata": {},
          "execution_count": 8
        }
      ]
    },
    {
      "cell_type": "code",
      "source": [
        "girls=['Rachel','Monica','Phoebe']\n",
        "boys=['Ross','Chandler','Joey']\n",
        "girls.append(boys)\n",
        "print(len(girls))\n",
        "girls\n",
        "\n",
        "# adder=(len(girls)+1)//2 (+1)\n",
        "\n",
        "# for i in range(len(girls)):\n",
        "#   if i < adder-2:\n",
        "#     girls[i+1],girls[i+adder]=girls[i+adder]+girls[i+1]\n",
        "#   else :\n",
        "#     break\n",
        "# girls\n"
      ],
      "metadata": {
        "colab": {
          "base_uri": "https://localhost:8080/"
        },
        "id": "KJzcCnGJBjkJ",
        "outputId": "174cc9d6-6346-4a49-e941-2308a11ab172"
      },
      "execution_count": null,
      "outputs": [
        {
          "output_type": "stream",
          "name": "stdout",
          "text": [
            "4\n"
          ]
        },
        {
          "output_type": "execute_result",
          "data": {
            "text/plain": [
              "['Rachel', 'Monica', 'Phoebe', ['Ross', 'Chandler', 'Joey']]"
            ]
          },
          "metadata": {},
          "execution_count": 20
        }
      ]
    },
    {
      "cell_type": "code",
      "source": [
        "girls=['Rachel','Monica','Phoebe']\n",
        "boys=['Ross','Chandler','Joey']\n",
        "couples = [(girl := girls[i], boy := boys[i]) for i in range(len(girls))]\n",
        "couples\n"
      ],
      "metadata": {
        "colab": {
          "base_uri": "https://localhost:8080/"
        },
        "id": "vdtuDsTyHiPR",
        "outputId": "49a684f9-efa0-4073-968a-6a1308bb3c4c"
      },
      "execution_count": null,
      "outputs": [
        {
          "output_type": "execute_result",
          "data": {
            "text/plain": [
              "[('Rachel', 'Ross'), ('Monica', 'Chandler'), ('Phoebe', 'Joey')]"
            ]
          },
          "metadata": {},
          "execution_count": 22
        }
      ]
    },
    {
      "cell_type": "code",
      "source": [
        "girls=['Rachel','Monica','Phoebe']\n",
        "boys=['Ross','Chandler','Joey']\n",
        "couples = [( girls[i],boys[i]) for i in range(len(girls))]\n",
        "couples"
      ],
      "metadata": {
        "colab": {
          "base_uri": "https://localhost:8080/"
        },
        "id": "Cs_fsFKrE10F",
        "outputId": "97e53e89-3100-4ecd-eff2-57dc6d56b95f"
      },
      "execution_count": 1,
      "outputs": [
        {
          "output_type": "execute_result",
          "data": {
            "text/plain": [
              "[('Rachel', 'Ross'), ('Monica', 'Chandler'), ('Phoebe', 'Joey')]"
            ]
          },
          "metadata": {},
          "execution_count": 1
        }
      ]
    },
    {
      "cell_type": "code",
      "source": [
        "# Mine\n",
        "movies = [\"The Holy Grail\", 1975, \"Terry Jones & Terry Gilliam\", 91,\n",
        " [\"Graham Chapman\", [\"Michael Palin\", \"John Cleese\",\n",
        " \"Terry Gilliam\", \"Eric Idle\", \"Terry Jones\"]]]\n",
        "def list_in_alist (mov):\n",
        "  for item in mov:\n",
        "    if type(item)!= list:\n",
        "      print(item)\n",
        "    else:\n",
        "      list_in_alist(item)\n",
        "\n",
        "\n",
        "list_in_alist(movies)\n",
        "type(movies)\n",
        "\n"
      ],
      "metadata": {
        "colab": {
          "base_uri": "https://localhost:8080/"
        },
        "id": "4DTBuQ6MJJMy",
        "outputId": "334904ab-3cb6-45f2-8083-33f68c3b543e"
      },
      "execution_count": 13,
      "outputs": [
        {
          "output_type": "stream",
          "name": "stdout",
          "text": [
            "The Holy Grail\n",
            "1975\n",
            "Terry Jones & Terry Gilliam\n",
            "91\n",
            "Graham Chapman\n",
            "Michael Palin\n",
            "John Cleese\n",
            "Terry Gilliam\n",
            "Eric Idle\n",
            "Terry Jones\n"
          ]
        },
        {
          "output_type": "execute_result",
          "data": {
            "text/plain": [
              "list"
            ]
          },
          "metadata": {},
          "execution_count": 13
        }
      ]
    },
    {
      "cell_type": "code",
      "source": [
        "# Chatgpt's ; Use isinstance\n",
        "movies = [\"The Holy Grail\", 1975, \"Terry Jones & Terry Gilliam\", 91,\n",
        "          [\"Graham Chapman\", [\"Michael Palin\", \"John Cleese\",\n",
        "          \"Terry Gilliam\", \"Eric Idle\", \"Terry Jones\"]]]\n",
        "\n",
        "def list_in_alist(mov):\n",
        "    for item in mov:\n",
        "        if isinstance(item, list):\n",
        "            list_in_alist(item)\n",
        "        else:\n",
        "            print(item)\n",
        "\n",
        "list_in_alist(movies)\n"
      ],
      "metadata": {
        "id": "AgzDcGpiKyCR"
      },
      "execution_count": null,
      "outputs": []
    },
    {
      "cell_type": "code",
      "source": [
        "movies = [\"The Holy Grail\", 1975, \"Terry Jones & Terry Gilliam\", 91,\n",
        " [\"Graham Chapman\", [\"Michael Palin\", \"John Cleese\",\n",
        " \"Terry Gilliam\", \"Eric Idle\", \"Terry Jones\"]]]\n",
        "def list_in_alist (movies):\n",
        "  for item in movies:\n",
        "    if type(item)== 'list':\n",
        "      print(item)\n",
        "    # else:\n",
        "    #   list_in_alist(item)\n",
        "list_in_alist(movies)\n",
        "type(movies)\n",
        "\n"
      ],
      "metadata": {
        "colab": {
          "base_uri": "https://localhost:8080/"
        },
        "outputId": "bc99eeda-525a-44c8-b43c-8d3518541e41",
        "id": "uWP2FtqtKyV9"
      },
      "execution_count": 8,
      "outputs": [
        {
          "output_type": "execute_result",
          "data": {
            "text/plain": [
              "list"
            ]
          },
          "metadata": {},
          "execution_count": 8
        }
      ]
    },
    {
      "cell_type": "code",
      "source": [
        "# Built in Functions\n",
        "len(dir(__builtins__))"
      ],
      "metadata": {
        "colab": {
          "base_uri": "https://localhost:8080/"
        },
        "id": "KpJ9tuXLQDtE",
        "outputId": "7d3917d3-5125-46d8-9d91-8eae37066897"
      },
      "execution_count": 15,
      "outputs": [
        {
          "output_type": "execute_result",
          "data": {
            "text/plain": [
              "158"
            ]
          },
          "metadata": {},
          "execution_count": 15
        }
      ]
    }
  ]
}