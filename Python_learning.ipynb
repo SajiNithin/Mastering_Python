{
  "nbformat": 4,
  "nbformat_minor": 0,
  "metadata": {
    "colab": {
      "provenance": [],
      "authorship_tag": "ABX9TyNClNeIgj3QdT416FIRGUCd",
      "include_colab_link": true
    },
    "kernelspec": {
      "name": "python3",
      "display_name": "Python 3"
    },
    "language_info": {
      "name": "python"
    }
  },
  "cells": [
    {
      "cell_type": "markdown",
      "metadata": {
        "id": "view-in-github",
        "colab_type": "text"
      },
      "source": [
        "<a href=\"https://colab.research.google.com/github/SajiNithin/Mastering_Python/blob/main/Python_learning.ipynb\" target=\"_parent\"><img src=\"https://colab.research.google.com/assets/colab-badge.svg\" alt=\"Open In Colab\"/></a>"
      ]
    },
    {
      "cell_type": "code",
      "execution_count": 3,
      "metadata": {
        "colab": {
          "base_uri": "https://localhost:8080/"
        },
        "id": "cLGuFPoxr5Qn",
        "outputId": "bf8481bb-18e4-499e-c41f-9ea4a36f675c"
      },
      "outputs": [
        {
          "output_type": "stream",
          "name": "stdout",
          "text": [
            "[0, 1, 1, 2, 3, 5, 8, 13, 21, 34]\n"
          ]
        }
      ],
      "source": [
        "def fibonacci(n):\n",
        "    fib_sequence = [0, 1]\n",
        "    while len(fib_sequence) < n:   # In python n < n is false\n",
        "\n",
        "        next_num = fib_sequence[-1] + fib_sequence[-2]\n",
        "        fib_sequence.append(next_num)\n",
        "    return fib_sequence\n",
        "\n",
        "n = 10\n",
        "result = fibonacci(n)\n",
        "\n"
      ]
    }
  ]
}