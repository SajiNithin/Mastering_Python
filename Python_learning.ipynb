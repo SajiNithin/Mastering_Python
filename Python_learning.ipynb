{
  "nbformat": 4,
  "nbformat_minor": 0,
  "metadata": {
    "colab": {
      "provenance": [],
      "authorship_tag": "ABX9TyMQOg2GrUPf5RDoxhDP4ZAe",
      "include_colab_link": true
    },
    "kernelspec": {
      "name": "python3",
      "display_name": "Python 3"
    },
    "language_info": {
      "name": "python"
    }
  },
  "cells": [
    {
      "cell_type": "markdown",
      "metadata": {
        "id": "view-in-github",
        "colab_type": "text"
      },
      "source": [
        "<a href=\"https://colab.research.google.com/github/SajiNithin/Mastering_Python/blob/main/Python_learning.ipynb\" target=\"_parent\"><img src=\"https://colab.research.google.com/assets/colab-badge.svg\" alt=\"Open In Colab\"/></a>"
      ]
    },
    {
      "cell_type": "code",
      "execution_count": 22,
      "metadata": {
        "colab": {
          "base_uri": "https://localhost:8080/"
        },
        "id": "cLGuFPoxr5Qn",
        "outputId": "57e32126-9d38-48e0-d012-c8efa798711d"
      },
      "outputs": [
        {
          "output_type": "stream",
          "name": "stdout",
          "text": [
            "[['ad', 'ae', 'af'], ['bd', 'be', 'bf'], ['cd', 'ce', 'cf']]\n"
          ]
        }
      ],
      "source": [
        "# Mine\n",
        "def lettercombo():\n",
        "  y=[]\n",
        "  two=['a','b','c']\n",
        "  three=['d','e','f']\n",
        "  for letter in two:\n",
        "    x=[(letter + letters)for letters in three]\n",
        "    y.append(x)\n",
        "\n",
        "  return y\n",
        "\n",
        "\n",
        "print(lettercombo())"
      ]
    },
    {
      "cell_type": "code",
      "source": [
        "# Chatgpt's\n",
        "def lettercombo():\n",
        "    two = ['a', 'b', 'c']\n",
        "    three = ['d', 'e', 'f']\n",
        "    return [(letter1 + letter2) for letter1 in two for letter2 in three]\n",
        "\n",
        "print(lettercombo())\n"
      ],
      "metadata": {
        "colab": {
          "base_uri": "https://localhost:8080/"
        },
        "id": "zkq5K3ExA86e",
        "outputId": "984f7b81-9300-48dc-ac25-065c5fdcc379"
      },
      "execution_count": 23,
      "outputs": [
        {
          "output_type": "stream",
          "name": "stdout",
          "text": [
            "['ad', 'ae', 'af', 'bd', 'be', 'bf', 'cd', 'ce', 'cf']\n"
          ]
        }
      ]
    }
  ]
}